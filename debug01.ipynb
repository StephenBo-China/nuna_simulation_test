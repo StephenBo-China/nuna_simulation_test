{
 "cells": [
  {
   "cell_type": "code",
   "execution_count": 1,
   "metadata": {},
   "outputs": [
    {
     "data": {
      "text/plain": [
       "({'path': 'boweihan/data/synthesis_data/tts_data',\n",
       "  'files': [{'name': 'murf_all_voice.json',\n",
       "    'type': 'file',\n",
       "    'size': 54485,\n",
       "    'modified': 1742710780.0365782},\n",
       "   {'name': 'murf_style_emotion_dict.json',\n",
       "    'type': 'file',\n",
       "    'size': 441,\n",
       "    'modified': 1742712439.1082542},\n",
       "   {'name': 'murf_style_voice_id.json',\n",
       "    'type': 'file',\n",
       "    'size': 5826,\n",
       "    'modified': 1742712507.5662844},\n",
       "   {'name': 'emotion_id_dict.json',\n",
       "    'type': 'file',\n",
       "    'size': 277,\n",
       "    'modified': 1742714068.0349505},\n",
       "   {'name': 'emotion_value_dict.json',\n",
       "    'type': 'file',\n",
       "    'size': 245,\n",
       "    'modified': 1742714070.7669516},\n",
       "   {'name': 'murf_voice_id_style_dict.json',\n",
       "    'type': 'file',\n",
       "    'size': 11620,\n",
       "    'modified': 1742752733.2279391},\n",
       "   {'name': 'complete_tts_table.csv',\n",
       "    'type': 'file',\n",
       "    'size': 18043704,\n",
       "    'modified': 1743159088.8228707},\n",
       "   {'name': 'murf_tts_data',\n",
       "    'type': 'directory',\n",
       "    'size': 5365760,\n",
       "    'modified': 1743160665.4036438}]},\n",
       " 0)"
      ]
     },
     "execution_count": 1,
     "metadata": {},
     "output_type": "execute_result"
    }
   ],
   "source": [
    "import sys \n",
    "sys.path.append('/root')\n",
    "from nas_tools.utils.utils import *\n",
    "nas_ls('boweihan/data/synthesis_data/tts_data')"
   ]
  },
  {
   "cell_type": "code",
   "execution_count": 2,
   "metadata": {},
   "outputs": [
    {
     "name": "stdout",
     "output_type": "stream",
     "text": [
      "文件已下载并保存为: /root/nuna_simulation_test/data/tts_data/complete_tts_table.csv\n"
     ]
    },
    {
     "data": {
      "text/plain": [
       "0"
      ]
     },
     "execution_count": 2,
     "metadata": {},
     "output_type": "execute_result"
    }
   ],
   "source": [
    "download_file(\n",
    "    remote_filepath='boweihan/data/synthesis_data/tts_data/complete_tts_table.csv'\n",
    "    ,local_filepath='/root/nuna_simulation_test/data/tts_data/complete_tts_table.csv'\n",
    ")"
   ]
  },
  {
   "cell_type": "code",
   "execution_count": 3,
   "metadata": {},
   "outputs": [
    {
     "data": {
      "text/html": [
       "<div>\n",
       "<style scoped>\n",
       "    .dataframe tbody tr th:only-of-type {\n",
       "        vertical-align: middle;\n",
       "    }\n",
       "\n",
       "    .dataframe tbody tr th {\n",
       "        vertical-align: top;\n",
       "    }\n",
       "\n",
       "    .dataframe thead th {\n",
       "        text-align: right;\n",
       "    }\n",
       "</style>\n",
       "<table border=\"1\" class=\"dataframe\">\n",
       "  <thead>\n",
       "    <tr style=\"text-align: right;\">\n",
       "      <th></th>\n",
       "      <th>tts_model</th>\n",
       "      <th>voice_id</th>\n",
       "      <th>model_voice_id</th>\n",
       "      <th>style</th>\n",
       "      <th>emotion_value</th>\n",
       "      <th>emotion_id</th>\n",
       "      <th>conversation_id</th>\n",
       "      <th>conversation_index</th>\n",
       "      <th>voice_nas_path</th>\n",
       "    </tr>\n",
       "  </thead>\n",
       "  <tbody>\n",
       "    <tr>\n",
       "      <th>0</th>\n",
       "      <td>murf</td>\n",
       "      <td>voicee042859e-168d-47cc-ac6e-7a6cb29f5ed5</td>\n",
       "      <td>en-US-cooper</td>\n",
       "      <td>Disappointment</td>\n",
       "      <td>Disappointment</td>\n",
       "      <td>11</td>\n",
       "      <td>dfd62aaa-1cae-40ba-aca8-f237fefcac71</td>\n",
       "      <td>0</td>\n",
       "      <td>boweihan/data/synthesis_data/tts_data/murf_tts...</td>\n",
       "    </tr>\n",
       "    <tr>\n",
       "      <th>1</th>\n",
       "      <td>murf</td>\n",
       "      <td>voice18e00ace-fcd1-462b-949e-c3f857996ae8</td>\n",
       "      <td>en-US-charles</td>\n",
       "      <td>Sobbing</td>\n",
       "      <td>Sadness</td>\n",
       "      <td>6</td>\n",
       "      <td>dfd62aaa-1cae-40ba-aca8-f237fefcac71</td>\n",
       "      <td>1</td>\n",
       "      <td>boweihan/data/synthesis_data/tts_data/murf_tts...</td>\n",
       "    </tr>\n",
       "  </tbody>\n",
       "</table>\n",
       "</div>"
      ],
      "text/plain": [
       "  tts_model                                   voice_id model_voice_id  \\\n",
       "0      murf  voicee042859e-168d-47cc-ac6e-7a6cb29f5ed5   en-US-cooper   \n",
       "1      murf  voice18e00ace-fcd1-462b-949e-c3f857996ae8  en-US-charles   \n",
       "\n",
       "            style   emotion_value  emotion_id  \\\n",
       "0  Disappointment  Disappointment          11   \n",
       "1         Sobbing         Sadness           6   \n",
       "\n",
       "                        conversation_id  conversation_index  \\\n",
       "0  dfd62aaa-1cae-40ba-aca8-f237fefcac71                   0   \n",
       "1  dfd62aaa-1cae-40ba-aca8-f237fefcac71                   1   \n",
       "\n",
       "                                      voice_nas_path  \n",
       "0  boweihan/data/synthesis_data/tts_data/murf_tts...  \n",
       "1  boweihan/data/synthesis_data/tts_data/murf_tts...  "
      ]
     },
     "execution_count": 3,
     "metadata": {},
     "output_type": "execute_result"
    }
   ],
   "source": [
    "import pandas as pd \n",
    "all_tts_data = pd.read_csv('/root/nuna_simulation_test/data/tts_data/complete_tts_table.csv') \n",
    "all_tts_data.head(2)"
   ]
  },
  {
   "cell_type": "code",
   "execution_count": 6,
   "metadata": {},
   "outputs": [
    {
     "data": {
      "text/html": [
       "<div>\n",
       "<style scoped>\n",
       "    .dataframe tbody tr th:only-of-type {\n",
       "        vertical-align: middle;\n",
       "    }\n",
       "\n",
       "    .dataframe tbody tr th {\n",
       "        vertical-align: top;\n",
       "    }\n",
       "\n",
       "    .dataframe thead th {\n",
       "        text-align: right;\n",
       "    }\n",
       "</style>\n",
       "<table border=\"1\" class=\"dataframe\">\n",
       "  <thead>\n",
       "    <tr style=\"text-align: right;\">\n",
       "      <th></th>\n",
       "      <th>tts_model</th>\n",
       "      <th>voice_id</th>\n",
       "      <th>model_voice_id</th>\n",
       "      <th>style</th>\n",
       "      <th>emotion_value</th>\n",
       "      <th>emotion_id</th>\n",
       "      <th>conversation_id</th>\n",
       "      <th>conversation_index</th>\n",
       "      <th>voice_nas_path</th>\n",
       "    </tr>\n",
       "  </thead>\n",
       "  <tbody>\n",
       "    <tr>\n",
       "      <th>65</th>\n",
       "      <td>murf</td>\n",
       "      <td>voice1521f162-98db-4cfd-804d-3dbfc44c015e</td>\n",
       "      <td>es-ES-enrique</td>\n",
       "      <td>Calm</td>\n",
       "      <td>Calm</td>\n",
       "      <td>7</td>\n",
       "      <td>4f1d0950-c201-4d0a-a64f-e53aae77198c</td>\n",
       "      <td>0</td>\n",
       "      <td>boweihan/data/synthesis_data/tts_data/murf_tts...</td>\n",
       "    </tr>\n",
       "    <tr>\n",
       "      <th>66</th>\n",
       "      <td>murf</td>\n",
       "      <td>voice73e1683d-a7df-4f8e-85c7-1dd413ccab58</td>\n",
       "      <td>en-US-ken</td>\n",
       "      <td>Fearful</td>\n",
       "      <td>Fearful</td>\n",
       "      <td>12</td>\n",
       "      <td>4f1d0950-c201-4d0a-a64f-e53aae77198c</td>\n",
       "      <td>1</td>\n",
       "      <td>boweihan/data/synthesis_data/tts_data/murf_tts...</td>\n",
       "    </tr>\n",
       "  </tbody>\n",
       "</table>\n",
       "</div>"
      ],
      "text/plain": [
       "   tts_model                                   voice_id model_voice_id  \\\n",
       "65      murf  voice1521f162-98db-4cfd-804d-3dbfc44c015e  es-ES-enrique   \n",
       "66      murf  voice73e1683d-a7df-4f8e-85c7-1dd413ccab58      en-US-ken   \n",
       "\n",
       "      style emotion_value  emotion_id                       conversation_id  \\\n",
       "65     Calm          Calm           7  4f1d0950-c201-4d0a-a64f-e53aae77198c   \n",
       "66  Fearful       Fearful          12  4f1d0950-c201-4d0a-a64f-e53aae77198c   \n",
       "\n",
       "    conversation_index                                     voice_nas_path  \n",
       "65                   0  boweihan/data/synthesis_data/tts_data/murf_tts...  \n",
       "66                   1  boweihan/data/synthesis_data/tts_data/murf_tts...  "
      ]
     },
     "execution_count": 6,
     "metadata": {},
     "output_type": "execute_result"
    }
   ],
   "source": [
    "debug_tts_data = all_tts_data[all_tts_data['conversation_id'] == '4f1d0950-c201-4d0a-a64f-e53aae77198c']\n",
    "debug_tts_data"
   ]
  },
  {
   "cell_type": "code",
   "execution_count": 10,
   "metadata": {},
   "outputs": [
    {
     "name": "stdout",
     "output_type": "stream",
     "text": [
      "文件已下载并保存为: /root/nuna_simulation_test/data/tts_data/debug_data/murf_4f1d0950-c201-4d0a-a64f-e53aae77198c_0.wav\n",
      "文件已下载并保存为: /root/nuna_simulation_test/data/tts_data/debug_data/murf_4f1d0950-c201-4d0a-a64f-e53aae77198c_1.wav\n"
     ]
    }
   ],
   "source": [
    "import os \n",
    "debug_voice_nas_path_list = debug_tts_data['voice_nas_path'].values.tolist() \n",
    "for p in debug_voice_nas_path_list: \n",
    "    download_file(\n",
    "        remote_filepath=p\n",
    "        ,local_filepath=os.path.join('/root/nuna_simulation_test/data/tts_data/debug_data', p.split('/')[-1])\n",
    "    )"
   ]
  },
  {
   "cell_type": "code",
   "execution_count": 4,
   "metadata": {},
   "outputs": [
    {
     "name": "stdout",
     "output_type": "stream",
     "text": [
      "6263\n"
     ]
    }
   ],
   "source": [
    "all_conversation_id_list = list(set(all_tts_data['conversation_id'].values.tolist()))\n",
    "print(len(all_conversation_id_list))"
   ]
  },
  {
   "cell_type": "code",
   "execution_count": 5,
   "metadata": {},
   "outputs": [
    {
     "data": {
      "text/plain": [
       "['c468f94b-389a-493d-91bf-8c258164481d',\n",
       " '645ef40c-ef64-4b90-b4e3-f04e95752a00',\n",
       " '773faab3-245d-4fef-a9f1-bc5995a2c924',\n",
       " '5547ee54-aff8-4834-b848-b13e68366dda',\n",
       " '21546093-6fbf-48c6-aa3b-60f8a4b39f1d']"
      ]
     },
     "execution_count": 5,
     "metadata": {},
     "output_type": "execute_result"
    }
   ],
   "source": [
    "import random \n",
    "sampled_conversation_list = random.sample(all_conversation_id_list, 5)\n",
    "sampled_conversation_list"
   ]
  },
  {
   "cell_type": "code",
   "execution_count": 6,
   "metadata": {},
   "outputs": [
    {
     "name": "stdout",
     "output_type": "stream",
     "text": [
      "文件已下载并保存为: /root/nuna_simulation_test/data/tts_data/conversation_turn_data/c468f94b-389a-493d-91bf-8c258164481d/murf_c468f94b-389a-493d-91bf-8c258164481d_0.wav\n",
      "文件已下载并保存为: /root/nuna_simulation_test/data/tts_data/conversation_turn_data/c468f94b-389a-493d-91bf-8c258164481d/murf_c468f94b-389a-493d-91bf-8c258164481d_1.wav\n",
      "文件已下载并保存为: /root/nuna_simulation_test/data/tts_data/conversation_turn_data/c468f94b-389a-493d-91bf-8c258164481d/murf_c468f94b-389a-493d-91bf-8c258164481d_2.wav\n",
      "文件已下载并保存为: /root/nuna_simulation_test/data/tts_data/conversation_turn_data/c468f94b-389a-493d-91bf-8c258164481d/murf_c468f94b-389a-493d-91bf-8c258164481d_3.wav\n",
      "文件已下载并保存为: /root/nuna_simulation_test/data/tts_data/conversation_turn_data/c468f94b-389a-493d-91bf-8c258164481d/murf_c468f94b-389a-493d-91bf-8c258164481d_4.wav\n",
      "文件已下载并保存为: /root/nuna_simulation_test/data/tts_data/conversation_turn_data/c468f94b-389a-493d-91bf-8c258164481d/murf_c468f94b-389a-493d-91bf-8c258164481d_6.wav\n",
      "文件已下载并保存为: /root/nuna_simulation_test/data/tts_data/conversation_turn_data/c468f94b-389a-493d-91bf-8c258164481d/murf_c468f94b-389a-493d-91bf-8c258164481d_5.wav\n",
      "文件已下载并保存为: /root/nuna_simulation_test/data/tts_data/conversation_turn_data/c468f94b-389a-493d-91bf-8c258164481d/murf_c468f94b-389a-493d-91bf-8c258164481d_7.wav\n",
      "文件已下载并保存为: /root/nuna_simulation_test/data/tts_data/conversation_turn_data/c468f94b-389a-493d-91bf-8c258164481d/murf_c468f94b-389a-493d-91bf-8c258164481d_8.wav\n",
      "文件已下载并保存为: /root/nuna_simulation_test/data/tts_data/conversation_turn_data/645ef40c-ef64-4b90-b4e3-f04e95752a00/murf_645ef40c-ef64-4b90-b4e3-f04e95752a00_0.wav\n",
      "文件已下载并保存为: /root/nuna_simulation_test/data/tts_data/conversation_turn_data/645ef40c-ef64-4b90-b4e3-f04e95752a00/murf_645ef40c-ef64-4b90-b4e3-f04e95752a00_1.wav\n",
      "文件已下载并保存为: /root/nuna_simulation_test/data/tts_data/conversation_turn_data/645ef40c-ef64-4b90-b4e3-f04e95752a00/murf_645ef40c-ef64-4b90-b4e3-f04e95752a00_2.wav\n",
      "文件已下载并保存为: /root/nuna_simulation_test/data/tts_data/conversation_turn_data/645ef40c-ef64-4b90-b4e3-f04e95752a00/murf_645ef40c-ef64-4b90-b4e3-f04e95752a00_4.wav\n",
      "文件已下载并保存为: /root/nuna_simulation_test/data/tts_data/conversation_turn_data/645ef40c-ef64-4b90-b4e3-f04e95752a00/murf_645ef40c-ef64-4b90-b4e3-f04e95752a00_3.wav\n",
      "文件已下载并保存为: /root/nuna_simulation_test/data/tts_data/conversation_turn_data/645ef40c-ef64-4b90-b4e3-f04e95752a00/murf_645ef40c-ef64-4b90-b4e3-f04e95752a00_5.wav\n",
      "文件已下载并保存为: /root/nuna_simulation_test/data/tts_data/conversation_turn_data/645ef40c-ef64-4b90-b4e3-f04e95752a00/murf_645ef40c-ef64-4b90-b4e3-f04e95752a00_6.wav\n",
      "文件已下载并保存为: /root/nuna_simulation_test/data/tts_data/conversation_turn_data/645ef40c-ef64-4b90-b4e3-f04e95752a00/murf_645ef40c-ef64-4b90-b4e3-f04e95752a00_8.wav\n",
      "文件已下载并保存为: /root/nuna_simulation_test/data/tts_data/conversation_turn_data/645ef40c-ef64-4b90-b4e3-f04e95752a00/murf_645ef40c-ef64-4b90-b4e3-f04e95752a00_7.wav\n",
      "文件已下载并保存为: /root/nuna_simulation_test/data/tts_data/conversation_turn_data/773faab3-245d-4fef-a9f1-bc5995a2c924/murf_773faab3-245d-4fef-a9f1-bc5995a2c924_0.wav\n",
      "文件已下载并保存为: /root/nuna_simulation_test/data/tts_data/conversation_turn_data/773faab3-245d-4fef-a9f1-bc5995a2c924/murf_773faab3-245d-4fef-a9f1-bc5995a2c924_2.wav\n",
      "文件已下载并保存为: /root/nuna_simulation_test/data/tts_data/conversation_turn_data/773faab3-245d-4fef-a9f1-bc5995a2c924/murf_773faab3-245d-4fef-a9f1-bc5995a2c924_1.wav\n",
      "文件已下载并保存为: /root/nuna_simulation_test/data/tts_data/conversation_turn_data/773faab3-245d-4fef-a9f1-bc5995a2c924/murf_773faab3-245d-4fef-a9f1-bc5995a2c924_3.wav\n",
      "文件已下载并保存为: /root/nuna_simulation_test/data/tts_data/conversation_turn_data/773faab3-245d-4fef-a9f1-bc5995a2c924/murf_773faab3-245d-4fef-a9f1-bc5995a2c924_6.wav\n",
      "文件已下载并保存为: /root/nuna_simulation_test/data/tts_data/conversation_turn_data/773faab3-245d-4fef-a9f1-bc5995a2c924/murf_773faab3-245d-4fef-a9f1-bc5995a2c924_5.wav\n",
      "文件已下载并保存为: /root/nuna_simulation_test/data/tts_data/conversation_turn_data/773faab3-245d-4fef-a9f1-bc5995a2c924/murf_773faab3-245d-4fef-a9f1-bc5995a2c924_7.wav\n",
      "文件已下载并保存为: /root/nuna_simulation_test/data/tts_data/conversation_turn_data/773faab3-245d-4fef-a9f1-bc5995a2c924/murf_773faab3-245d-4fef-a9f1-bc5995a2c924_8.wav\n",
      "文件已下载并保存为: /root/nuna_simulation_test/data/tts_data/conversation_turn_data/773faab3-245d-4fef-a9f1-bc5995a2c924/murf_773faab3-245d-4fef-a9f1-bc5995a2c924_9.wav\n",
      "文件已下载并保存为: /root/nuna_simulation_test/data/tts_data/conversation_turn_data/773faab3-245d-4fef-a9f1-bc5995a2c924/murf_773faab3-245d-4fef-a9f1-bc5995a2c924_4.wav\n",
      "文件已下载并保存为: /root/nuna_simulation_test/data/tts_data/conversation_turn_data/773faab3-245d-4fef-a9f1-bc5995a2c924/murf_773faab3-245d-4fef-a9f1-bc5995a2c924_10.wav\n",
      "文件已下载并保存为: /root/nuna_simulation_test/data/tts_data/conversation_turn_data/773faab3-245d-4fef-a9f1-bc5995a2c924/murf_773faab3-245d-4fef-a9f1-bc5995a2c924_11.wav\n",
      "文件已下载并保存为: /root/nuna_simulation_test/data/tts_data/conversation_turn_data/773faab3-245d-4fef-a9f1-bc5995a2c924/murf_773faab3-245d-4fef-a9f1-bc5995a2c924_12.wav\n",
      "文件已下载并保存为: /root/nuna_simulation_test/data/tts_data/conversation_turn_data/773faab3-245d-4fef-a9f1-bc5995a2c924/murf_773faab3-245d-4fef-a9f1-bc5995a2c924_14.wav\n",
      "文件已下载并保存为: /root/nuna_simulation_test/data/tts_data/conversation_turn_data/773faab3-245d-4fef-a9f1-bc5995a2c924/murf_773faab3-245d-4fef-a9f1-bc5995a2c924_13.wav\n",
      "文件已下载并保存为: /root/nuna_simulation_test/data/tts_data/conversation_turn_data/773faab3-245d-4fef-a9f1-bc5995a2c924/murf_773faab3-245d-4fef-a9f1-bc5995a2c924_15.wav\n",
      "文件已下载并保存为: /root/nuna_simulation_test/data/tts_data/conversation_turn_data/773faab3-245d-4fef-a9f1-bc5995a2c924/murf_773faab3-245d-4fef-a9f1-bc5995a2c924_16.wav\n",
      "文件已下载并保存为: /root/nuna_simulation_test/data/tts_data/conversation_turn_data/773faab3-245d-4fef-a9f1-bc5995a2c924/murf_773faab3-245d-4fef-a9f1-bc5995a2c924_17.wav\n",
      "文件已下载并保存为: /root/nuna_simulation_test/data/tts_data/conversation_turn_data/773faab3-245d-4fef-a9f1-bc5995a2c924/murf_773faab3-245d-4fef-a9f1-bc5995a2c924_18.wav\n",
      "文件已下载并保存为: /root/nuna_simulation_test/data/tts_data/conversation_turn_data/773faab3-245d-4fef-a9f1-bc5995a2c924/murf_773faab3-245d-4fef-a9f1-bc5995a2c924_19.wav\n",
      "文件已下载并保存为: /root/nuna_simulation_test/data/tts_data/conversation_turn_data/773faab3-245d-4fef-a9f1-bc5995a2c924/murf_773faab3-245d-4fef-a9f1-bc5995a2c924_21.wav\n",
      "文件已下载并保存为: /root/nuna_simulation_test/data/tts_data/conversation_turn_data/773faab3-245d-4fef-a9f1-bc5995a2c924/murf_773faab3-245d-4fef-a9f1-bc5995a2c924_20.wav\n",
      "文件已下载并保存为: /root/nuna_simulation_test/data/tts_data/conversation_turn_data/773faab3-245d-4fef-a9f1-bc5995a2c924/murf_773faab3-245d-4fef-a9f1-bc5995a2c924_22.wav\n",
      "文件已下载并保存为: /root/nuna_simulation_test/data/tts_data/conversation_turn_data/773faab3-245d-4fef-a9f1-bc5995a2c924/murf_773faab3-245d-4fef-a9f1-bc5995a2c924_23.wav\n",
      "文件已下载并保存为: /root/nuna_simulation_test/data/tts_data/conversation_turn_data/773faab3-245d-4fef-a9f1-bc5995a2c924/murf_773faab3-245d-4fef-a9f1-bc5995a2c924_24.wav\n",
      "文件已下载并保存为: /root/nuna_simulation_test/data/tts_data/conversation_turn_data/5547ee54-aff8-4834-b848-b13e68366dda/murf_5547ee54-aff8-4834-b848-b13e68366dda_1.wav\n",
      "文件已下载并保存为: /root/nuna_simulation_test/data/tts_data/conversation_turn_data/5547ee54-aff8-4834-b848-b13e68366dda/murf_5547ee54-aff8-4834-b848-b13e68366dda_0.wav\n",
      "文件已下载并保存为: /root/nuna_simulation_test/data/tts_data/conversation_turn_data/5547ee54-aff8-4834-b848-b13e68366dda/murf_5547ee54-aff8-4834-b848-b13e68366dda_2.wav\n",
      "文件已下载并保存为: /root/nuna_simulation_test/data/tts_data/conversation_turn_data/5547ee54-aff8-4834-b848-b13e68366dda/murf_5547ee54-aff8-4834-b848-b13e68366dda_3.wav\n",
      "文件已下载并保存为: /root/nuna_simulation_test/data/tts_data/conversation_turn_data/5547ee54-aff8-4834-b848-b13e68366dda/murf_5547ee54-aff8-4834-b848-b13e68366dda_4.wav\n",
      "文件已下载并保存为: /root/nuna_simulation_test/data/tts_data/conversation_turn_data/5547ee54-aff8-4834-b848-b13e68366dda/murf_5547ee54-aff8-4834-b848-b13e68366dda_7.wav\n",
      "文件已下载并保存为: /root/nuna_simulation_test/data/tts_data/conversation_turn_data/5547ee54-aff8-4834-b848-b13e68366dda/murf_5547ee54-aff8-4834-b848-b13e68366dda_8.wav\n",
      "文件已下载并保存为: /root/nuna_simulation_test/data/tts_data/conversation_turn_data/5547ee54-aff8-4834-b848-b13e68366dda/murf_5547ee54-aff8-4834-b848-b13e68366dda_6.wav\n",
      "文件已下载并保存为: /root/nuna_simulation_test/data/tts_data/conversation_turn_data/5547ee54-aff8-4834-b848-b13e68366dda/murf_5547ee54-aff8-4834-b848-b13e68366dda_11.wav\n",
      "文件已下载并保存为: /root/nuna_simulation_test/data/tts_data/conversation_turn_data/5547ee54-aff8-4834-b848-b13e68366dda/murf_5547ee54-aff8-4834-b848-b13e68366dda_12.wav\n",
      "文件已下载并保存为: /root/nuna_simulation_test/data/tts_data/conversation_turn_data/5547ee54-aff8-4834-b848-b13e68366dda/murf_5547ee54-aff8-4834-b848-b13e68366dda_10.wav\n",
      "文件已下载并保存为: /root/nuna_simulation_test/data/tts_data/conversation_turn_data/5547ee54-aff8-4834-b848-b13e68366dda/murf_5547ee54-aff8-4834-b848-b13e68366dda_5.wav\n",
      "文件已下载并保存为: /root/nuna_simulation_test/data/tts_data/conversation_turn_data/5547ee54-aff8-4834-b848-b13e68366dda/murf_5547ee54-aff8-4834-b848-b13e68366dda_9.wav\n",
      "文件已下载并保存为: /root/nuna_simulation_test/data/tts_data/conversation_turn_data/5547ee54-aff8-4834-b848-b13e68366dda/murf_5547ee54-aff8-4834-b848-b13e68366dda_13.wav\n",
      "文件已下载并保存为: /root/nuna_simulation_test/data/tts_data/conversation_turn_data/21546093-6fbf-48c6-aa3b-60f8a4b39f1d/murf_21546093-6fbf-48c6-aa3b-60f8a4b39f1d_0.wav\n",
      "文件已下载并保存为: /root/nuna_simulation_test/data/tts_data/conversation_turn_data/21546093-6fbf-48c6-aa3b-60f8a4b39f1d/murf_21546093-6fbf-48c6-aa3b-60f8a4b39f1d_1.wav\n",
      "文件已下载并保存为: /root/nuna_simulation_test/data/tts_data/conversation_turn_data/21546093-6fbf-48c6-aa3b-60f8a4b39f1d/murf_21546093-6fbf-48c6-aa3b-60f8a4b39f1d_2.wav\n",
      "文件已下载并保存为: /root/nuna_simulation_test/data/tts_data/conversation_turn_data/21546093-6fbf-48c6-aa3b-60f8a4b39f1d/murf_21546093-6fbf-48c6-aa3b-60f8a4b39f1d_3.wav\n",
      "文件已下载并保存为: /root/nuna_simulation_test/data/tts_data/conversation_turn_data/21546093-6fbf-48c6-aa3b-60f8a4b39f1d/murf_21546093-6fbf-48c6-aa3b-60f8a4b39f1d_5.wav\n",
      "文件已下载并保存为: /root/nuna_simulation_test/data/tts_data/conversation_turn_data/21546093-6fbf-48c6-aa3b-60f8a4b39f1d/murf_21546093-6fbf-48c6-aa3b-60f8a4b39f1d_4.wav\n",
      "文件已下载并保存为: /root/nuna_simulation_test/data/tts_data/conversation_turn_data/21546093-6fbf-48c6-aa3b-60f8a4b39f1d/murf_21546093-6fbf-48c6-aa3b-60f8a4b39f1d_6.wav\n",
      "文件已下载并保存为: /root/nuna_simulation_test/data/tts_data/conversation_turn_data/21546093-6fbf-48c6-aa3b-60f8a4b39f1d/murf_21546093-6fbf-48c6-aa3b-60f8a4b39f1d_7.wav\n",
      "文件已下载并保存为: /root/nuna_simulation_test/data/tts_data/conversation_turn_data/21546093-6fbf-48c6-aa3b-60f8a4b39f1d/murf_21546093-6fbf-48c6-aa3b-60f8a4b39f1d_9.wav\n",
      "文件已下载并保存为: /root/nuna_simulation_test/data/tts_data/conversation_turn_data/21546093-6fbf-48c6-aa3b-60f8a4b39f1d/murf_21546093-6fbf-48c6-aa3b-60f8a4b39f1d_11.wav\n",
      "文件已下载并保存为: /root/nuna_simulation_test/data/tts_data/conversation_turn_data/21546093-6fbf-48c6-aa3b-60f8a4b39f1d/murf_21546093-6fbf-48c6-aa3b-60f8a4b39f1d_8.wav\n",
      "文件已下载并保存为: /root/nuna_simulation_test/data/tts_data/conversation_turn_data/21546093-6fbf-48c6-aa3b-60f8a4b39f1d/murf_21546093-6fbf-48c6-aa3b-60f8a4b39f1d_10.wav\n",
      "文件已下载并保存为: /root/nuna_simulation_test/data/tts_data/conversation_turn_data/21546093-6fbf-48c6-aa3b-60f8a4b39f1d/murf_21546093-6fbf-48c6-aa3b-60f8a4b39f1d_12.wav\n"
     ]
    }
   ],
   "source": [
    "for conv_id in sampled_conversation_list:\n",
    "    temp_data = all_tts_data[all_tts_data['conversation_id'] == conv_id]\n",
    "    conversation_index_list = temp_data['conversation_index'].values.tolist() \n",
    "    voice_nas_path_list = temp_data['voice_nas_path'].values.tolist()  \n",
    "    for i in range(len(temp_data)): \n",
    "        conversation_index = conversation_index_list[i] \n",
    "        voice_nas_path = voice_nas_path_list[i] \n",
    "        download_file(\n",
    "            remote_filepath=voice_nas_path\n",
    "            ,local_filepath=os.path.join(f'/root/nuna_simulation_test/data/tts_data/conversation_turn_data/{conv_id}', voice_nas_path.split('/')[-1])\n",
    "        )"
   ]
  },
  {
   "cell_type": "code",
   "execution_count": 7,
   "metadata": {},
   "outputs": [
    {
     "name": "stdout",
     "output_type": "stream",
     "text": [
      "文件已下载并保存为: /root/nuna_simulation_test/data/noise_data/audio_scene_label.csv\n"
     ]
    },
    {
     "data": {
      "text/plain": [
       "0"
      ]
     },
     "execution_count": 7,
     "metadata": {},
     "output_type": "execute_result"
    }
   ],
   "source": [
    "download_file(\n",
    "    remote_filepath='chaoqun/audio_scene_label.csv'\n",
    "    ,local_filepath=os.path.join(f'/root/nuna_simulation_test/data/noise_data/audio_scene_label.csv')\n",
    ")"
   ]
  },
  {
   "cell_type": "code",
   "execution_count": 8,
   "metadata": {},
   "outputs": [
    {
     "data": {
      "text/html": [
       "<div>\n",
       "<style scoped>\n",
       "    .dataframe tbody tr th:only-of-type {\n",
       "        vertical-align: middle;\n",
       "    }\n",
       "\n",
       "    .dataframe tbody tr th {\n",
       "        vertical-align: top;\n",
       "    }\n",
       "\n",
       "    .dataframe thead th {\n",
       "        text-align: right;\n",
       "    }\n",
       "</style>\n",
       "<table border=\"1\" class=\"dataframe\">\n",
       "  <thead>\n",
       "    <tr style=\"text-align: right;\">\n",
       "      <th></th>\n",
       "      <th>audio_name</th>\n",
       "      <th>first_scene</th>\n",
       "      <th>second_scene</th>\n",
       "    </tr>\n",
       "  </thead>\n",
       "  <tbody>\n",
       "    <tr>\n",
       "      <th>0</th>\n",
       "      <td>ATMs_1_001.wav</td>\n",
       "      <td>Banks and Financial Institutions</td>\n",
       "      <td>ATMs</td>\n",
       "    </tr>\n",
       "    <tr>\n",
       "      <th>1</th>\n",
       "      <td>ATMs_1_002.wav</td>\n",
       "      <td>Banks and Financial Institutions</td>\n",
       "      <td>ATMs</td>\n",
       "    </tr>\n",
       "  </tbody>\n",
       "</table>\n",
       "</div>"
      ],
      "text/plain": [
       "       audio_name                       first_scene second_scene\n",
       "0  ATMs_1_001.wav  Banks and Financial Institutions         ATMs\n",
       "1  ATMs_1_002.wav  Banks and Financial Institutions         ATMs"
      ]
     },
     "execution_count": 8,
     "metadata": {},
     "output_type": "execute_result"
    }
   ],
   "source": [
    "audio_scene_data = pd.read_csv('/root/nuna_simulation_test/data/noise_data/audio_scene_label.csv')\n",
    "audio_scene_data.head(2)"
   ]
  },
  {
   "cell_type": "code",
   "execution_count": 10,
   "metadata": {},
   "outputs": [
    {
     "name": "stdout",
     "output_type": "stream",
     "text": [
      "['fitness studios', 'Bedroom', 'Churches', 'synagogues', 'clinics', 'kitchen', 'Post offices', 'Supermarkets', 'trails', 'town halls', 'Gas stations', 'train stations', 'Gyms', 'Bus stops', 'Restaurants', 'Banks', 'Public libraries', 'university libraries', 'mosques', 'university', 'factory', 'malls', 'Rec centers', 'School', 'living room', 'Parks', 'coffee shops', 'Office', 'ATMs', 'Hospitals']\n"
     ]
    }
   ],
   "source": [
    "second_scene_list = list(set(audio_scene_data['second_scene'].values.tolist()))\n",
    "print(second_scene_list)"
   ]
  },
  {
   "cell_type": "code",
   "execution_count": null,
   "metadata": {},
   "outputs": [
    {
     "name": "stdout",
     "output_type": "stream",
     "text": [
      "chaoqun/scene_audio_from_youtube/Medical Facilities/Hospitals/Hospitals_2_008.wav\n",
      "文件已下载并保存为: /root/nuna_simulation_test/data/noise_data/second_scene/Hospitals_2_008.wav\n",
      "chaoqun/scene_audio_from_youtube/Medical Facilities/Hospitals/Hospitals_1_343.wav\n",
      "文件已下载并保存为: /root/nuna_simulation_test/data/noise_data/second_scene/Hospitals_1_343.wav\n",
      "chaoqun/scene_audio_from_youtube/Medical Facilities/Hospitals/Hospitals_1_213.wav\n",
      "文件已下载并保存为: /root/nuna_simulation_test/data/noise_data/second_scene/Hospitals_1_213.wav\n",
      "chaoqun/scene_audio_from_youtube/Medical Facilities/Hospitals/Hospitals_1_141.wav\n",
      "请求异常: 404 Client Error: Not Found for url: http://129.204.7.100:8000/download?path=chaoqun%2Fscene_audio_from_youtube%2FMedical+Facilities%2FHospitals%2FHospitals_1_141.wav\n",
      "chaoqun/scene_audio_from_youtube/Medical Facilities/Hospitals/Hospitals_2_138.wav\n",
      "文件已下载并保存为: /root/nuna_simulation_test/data/noise_data/second_scene/Hospitals_2_138.wav\n",
      "chaoqun/scene_audio_from_youtube/Medical Facilities/Hospitals/Hospitals_1_012.wav\n",
      "文件已下载并保存为: /root/nuna_simulation_test/data/noise_data/second_scene/Hospitals_1_012.wav\n",
      "chaoqun/scene_audio_from_youtube/Medical Facilities/Hospitals/Hospitals_1_111.wav\n",
      "文件已下载并保存为: /root/nuna_simulation_test/data/noise_data/second_scene/Hospitals_1_111.wav\n",
      "chaoqun/scene_audio_from_youtube/Medical Facilities/Hospitals/Hospitals_1_360.wav\n",
      "文件已下载并保存为: /root/nuna_simulation_test/data/noise_data/second_scene/Hospitals_1_360.wav\n",
      "chaoqun/scene_audio_from_youtube/Medical Facilities/Hospitals/Hospitals_1_127.wav\n",
      "文件已下载并保存为: /root/nuna_simulation_test/data/noise_data/second_scene/Hospitals_1_127.wav\n",
      "chaoqun/scene_audio_from_youtube/Medical Facilities/Hospitals/Hospitals_2_066.wav\n"
     ]
    },
    {
     "ename": "KeyboardInterrupt",
     "evalue": "",
     "output_type": "error",
     "traceback": [
      "\u001b[0;31m---------------------------------------------------------------------------\u001b[0m",
      "\u001b[0;31mKeyboardInterrupt\u001b[0m                         Traceback (most recent call last)",
      "Cell \u001b[0;32mIn[14], line 9\u001b[0m\n\u001b[1;32m      7\u001b[0m     nas_file_path \u001b[38;5;241m=\u001b[39m os\u001b[38;5;241m.\u001b[39mpath\u001b[38;5;241m.\u001b[39mjoin(\u001b[38;5;124m'\u001b[39m\u001b[38;5;124mchaoqun/scene_audio_from_youtube\u001b[39m\u001b[38;5;124m'\u001b[39m, first_scene_list[i], second_scene_list[i], audio_name_list[i]) \n\u001b[1;32m      8\u001b[0m     \u001b[38;5;28mprint\u001b[39m(nas_file_path)\n\u001b[0;32m----> 9\u001b[0m     \u001b[43mdownload_file\u001b[49m\u001b[43m(\u001b[49m\n\u001b[1;32m     10\u001b[0m \u001b[43m        \u001b[49m\u001b[43mremote_filepath\u001b[49m\u001b[38;5;241;43m=\u001b[39;49m\u001b[43mnas_file_path\u001b[49m\n\u001b[1;32m     11\u001b[0m \u001b[43m        \u001b[49m\u001b[43m,\u001b[49m\u001b[43mlocal_filepath\u001b[49m\u001b[38;5;241;43m=\u001b[39;49m\u001b[43mos\u001b[49m\u001b[38;5;241;43m.\u001b[39;49m\u001b[43mpath\u001b[49m\u001b[38;5;241;43m.\u001b[39;49m\u001b[43mjoin\u001b[49m\u001b[43m(\u001b[49m\u001b[38;5;124;43mf\u001b[39;49m\u001b[38;5;124;43m'\u001b[39;49m\u001b[38;5;124;43m/root/nuna_simulation_test/data/noise_data/second_scene/\u001b[39;49m\u001b[38;5;132;43;01m{\u001b[39;49;00m\u001b[43maudio_name_list\u001b[49m\u001b[43m[\u001b[49m\u001b[43mi\u001b[49m\u001b[43m]\u001b[49m\u001b[38;5;132;43;01m}\u001b[39;49;00m\u001b[38;5;124;43m'\u001b[39;49m\u001b[43m)\u001b[49m\n\u001b[1;32m     12\u001b[0m \u001b[43m    \u001b[49m\u001b[43m)\u001b[49m\n\u001b[1;32m     13\u001b[0m \u001b[38;5;66;03m#     break \u001b[39;00m\n\u001b[1;32m     14\u001b[0m \u001b[38;5;66;03m# break \u001b[39;00m\n",
      "File \u001b[0;32m~/nas_tools/utils/utils.py:121\u001b[0m, in \u001b[0;36mdownload_file\u001b[0;34m(remote_filepath, local_filepath)\u001b[0m\n\u001b[1;32m    119\u001b[0m \u001b[38;5;66;03m# 将响应内容写入本地文件\u001b[39;00m\n\u001b[1;32m    120\u001b[0m \u001b[38;5;28;01mwith\u001b[39;00m \u001b[38;5;28mopen\u001b[39m(output_file, \u001b[38;5;124m\"\u001b[39m\u001b[38;5;124mwb\u001b[39m\u001b[38;5;124m\"\u001b[39m) \u001b[38;5;28;01mas\u001b[39;00m f:\n\u001b[0;32m--> 121\u001b[0m     \u001b[38;5;28;01mfor\u001b[39;00m chunk \u001b[38;5;129;01min\u001b[39;00m response\u001b[38;5;241m.\u001b[39miter_content(chunk_size\u001b[38;5;241m=\u001b[39m\u001b[38;5;241m8192\u001b[39m):  \u001b[38;5;66;03m# 分块写入，避免内存占用过高\u001b[39;00m\n\u001b[1;32m    122\u001b[0m         f\u001b[38;5;241m.\u001b[39mwrite(chunk)\n\u001b[1;32m    124\u001b[0m \u001b[38;5;28mprint\u001b[39m(\u001b[38;5;124mf\u001b[39m\u001b[38;5;124m\"\u001b[39m\u001b[38;5;124m文件已下载并保存为: \u001b[39m\u001b[38;5;132;01m{\u001b[39;00moutput_file\u001b[38;5;132;01m}\u001b[39;00m\u001b[38;5;124m\"\u001b[39m)\n",
      "File \u001b[0;32m~/miniconda3/envs/sim_test_env/lib/python3.9/site-packages/requests/models.py:820\u001b[0m, in \u001b[0;36mResponse.iter_content.<locals>.generate\u001b[0;34m()\u001b[0m\n\u001b[1;32m    818\u001b[0m \u001b[38;5;28;01mif\u001b[39;00m \u001b[38;5;28mhasattr\u001b[39m(\u001b[38;5;28mself\u001b[39m\u001b[38;5;241m.\u001b[39mraw, \u001b[38;5;124m\"\u001b[39m\u001b[38;5;124mstream\u001b[39m\u001b[38;5;124m\"\u001b[39m):\n\u001b[1;32m    819\u001b[0m     \u001b[38;5;28;01mtry\u001b[39;00m:\n\u001b[0;32m--> 820\u001b[0m         \u001b[38;5;28;01myield from\u001b[39;00m \u001b[38;5;28mself\u001b[39m\u001b[38;5;241m.\u001b[39mraw\u001b[38;5;241m.\u001b[39mstream(chunk_size, decode_content\u001b[38;5;241m=\u001b[39m\u001b[38;5;28;01mTrue\u001b[39;00m)\n\u001b[1;32m    821\u001b[0m     \u001b[38;5;28;01mexcept\u001b[39;00m ProtocolError \u001b[38;5;28;01mas\u001b[39;00m e:\n\u001b[1;32m    822\u001b[0m         \u001b[38;5;28;01mraise\u001b[39;00m ChunkedEncodingError(e)\n",
      "File \u001b[0;32m~/miniconda3/envs/sim_test_env/lib/python3.9/site-packages/urllib3/response.py:1066\u001b[0m, in \u001b[0;36mHTTPResponse.stream\u001b[0;34m(self, amt, decode_content)\u001b[0m\n\u001b[1;32m   1064\u001b[0m \u001b[38;5;28;01melse\u001b[39;00m:\n\u001b[1;32m   1065\u001b[0m     \u001b[38;5;28;01mwhile\u001b[39;00m \u001b[38;5;129;01mnot\u001b[39;00m is_fp_closed(\u001b[38;5;28mself\u001b[39m\u001b[38;5;241m.\u001b[39m_fp) \u001b[38;5;129;01mor\u001b[39;00m \u001b[38;5;28mlen\u001b[39m(\u001b[38;5;28mself\u001b[39m\u001b[38;5;241m.\u001b[39m_decoded_buffer) \u001b[38;5;241m>\u001b[39m \u001b[38;5;241m0\u001b[39m:\n\u001b[0;32m-> 1066\u001b[0m         data \u001b[38;5;241m=\u001b[39m \u001b[38;5;28;43mself\u001b[39;49m\u001b[38;5;241;43m.\u001b[39;49m\u001b[43mread\u001b[49m\u001b[43m(\u001b[49m\u001b[43mamt\u001b[49m\u001b[38;5;241;43m=\u001b[39;49m\u001b[43mamt\u001b[49m\u001b[43m,\u001b[49m\u001b[43m \u001b[49m\u001b[43mdecode_content\u001b[49m\u001b[38;5;241;43m=\u001b[39;49m\u001b[43mdecode_content\u001b[49m\u001b[43m)\u001b[49m\n\u001b[1;32m   1068\u001b[0m         \u001b[38;5;28;01mif\u001b[39;00m data:\n\u001b[1;32m   1069\u001b[0m             \u001b[38;5;28;01myield\u001b[39;00m data\n",
      "File \u001b[0;32m~/miniconda3/envs/sim_test_env/lib/python3.9/site-packages/urllib3/response.py:955\u001b[0m, in \u001b[0;36mHTTPResponse.read\u001b[0;34m(self, amt, decode_content, cache_content)\u001b[0m\n\u001b[1;32m    952\u001b[0m     \u001b[38;5;28;01mif\u001b[39;00m \u001b[38;5;28mlen\u001b[39m(\u001b[38;5;28mself\u001b[39m\u001b[38;5;241m.\u001b[39m_decoded_buffer) \u001b[38;5;241m>\u001b[39m\u001b[38;5;241m=\u001b[39m amt:\n\u001b[1;32m    953\u001b[0m         \u001b[38;5;28;01mreturn\u001b[39;00m \u001b[38;5;28mself\u001b[39m\u001b[38;5;241m.\u001b[39m_decoded_buffer\u001b[38;5;241m.\u001b[39mget(amt)\n\u001b[0;32m--> 955\u001b[0m data \u001b[38;5;241m=\u001b[39m \u001b[38;5;28;43mself\u001b[39;49m\u001b[38;5;241;43m.\u001b[39;49m\u001b[43m_raw_read\u001b[49m\u001b[43m(\u001b[49m\u001b[43mamt\u001b[49m\u001b[43m)\u001b[49m\n\u001b[1;32m    957\u001b[0m flush_decoder \u001b[38;5;241m=\u001b[39m amt \u001b[38;5;129;01mis\u001b[39;00m \u001b[38;5;28;01mNone\u001b[39;00m \u001b[38;5;129;01mor\u001b[39;00m (amt \u001b[38;5;241m!=\u001b[39m \u001b[38;5;241m0\u001b[39m \u001b[38;5;129;01mand\u001b[39;00m \u001b[38;5;129;01mnot\u001b[39;00m data)\n\u001b[1;32m    959\u001b[0m \u001b[38;5;28;01mif\u001b[39;00m \u001b[38;5;129;01mnot\u001b[39;00m data \u001b[38;5;129;01mand\u001b[39;00m \u001b[38;5;28mlen\u001b[39m(\u001b[38;5;28mself\u001b[39m\u001b[38;5;241m.\u001b[39m_decoded_buffer) \u001b[38;5;241m==\u001b[39m \u001b[38;5;241m0\u001b[39m:\n",
      "File \u001b[0;32m~/miniconda3/envs/sim_test_env/lib/python3.9/site-packages/urllib3/response.py:879\u001b[0m, in \u001b[0;36mHTTPResponse._raw_read\u001b[0;34m(self, amt, read1)\u001b[0m\n\u001b[1;32m    876\u001b[0m fp_closed \u001b[38;5;241m=\u001b[39m \u001b[38;5;28mgetattr\u001b[39m(\u001b[38;5;28mself\u001b[39m\u001b[38;5;241m.\u001b[39m_fp, \u001b[38;5;124m\"\u001b[39m\u001b[38;5;124mclosed\u001b[39m\u001b[38;5;124m\"\u001b[39m, \u001b[38;5;28;01mFalse\u001b[39;00m)\n\u001b[1;32m    878\u001b[0m \u001b[38;5;28;01mwith\u001b[39;00m \u001b[38;5;28mself\u001b[39m\u001b[38;5;241m.\u001b[39m_error_catcher():\n\u001b[0;32m--> 879\u001b[0m     data \u001b[38;5;241m=\u001b[39m \u001b[38;5;28;43mself\u001b[39;49m\u001b[38;5;241;43m.\u001b[39;49m\u001b[43m_fp_read\u001b[49m\u001b[43m(\u001b[49m\u001b[43mamt\u001b[49m\u001b[43m,\u001b[49m\u001b[43m \u001b[49m\u001b[43mread1\u001b[49m\u001b[38;5;241;43m=\u001b[39;49m\u001b[43mread1\u001b[49m\u001b[43m)\u001b[49m \u001b[38;5;28;01mif\u001b[39;00m \u001b[38;5;129;01mnot\u001b[39;00m fp_closed \u001b[38;5;28;01melse\u001b[39;00m \u001b[38;5;124mb\u001b[39m\u001b[38;5;124m\"\u001b[39m\u001b[38;5;124m\"\u001b[39m\n\u001b[1;32m    880\u001b[0m     \u001b[38;5;28;01mif\u001b[39;00m amt \u001b[38;5;129;01mis\u001b[39;00m \u001b[38;5;129;01mnot\u001b[39;00m \u001b[38;5;28;01mNone\u001b[39;00m \u001b[38;5;129;01mand\u001b[39;00m amt \u001b[38;5;241m!=\u001b[39m \u001b[38;5;241m0\u001b[39m \u001b[38;5;129;01mand\u001b[39;00m \u001b[38;5;129;01mnot\u001b[39;00m data:\n\u001b[1;32m    881\u001b[0m         \u001b[38;5;66;03m# Platform-specific: Buggy versions of Python.\u001b[39;00m\n\u001b[1;32m    882\u001b[0m         \u001b[38;5;66;03m# Close the connection when no data is returned\u001b[39;00m\n\u001b[0;32m   (...)\u001b[0m\n\u001b[1;32m    887\u001b[0m         \u001b[38;5;66;03m# not properly close the connection in all cases. There is\u001b[39;00m\n\u001b[1;32m    888\u001b[0m         \u001b[38;5;66;03m# no harm in redundantly calling close.\u001b[39;00m\n\u001b[1;32m    889\u001b[0m         \u001b[38;5;28mself\u001b[39m\u001b[38;5;241m.\u001b[39m_fp\u001b[38;5;241m.\u001b[39mclose()\n",
      "File \u001b[0;32m~/miniconda3/envs/sim_test_env/lib/python3.9/site-packages/urllib3/response.py:862\u001b[0m, in \u001b[0;36mHTTPResponse._fp_read\u001b[0;34m(self, amt, read1)\u001b[0m\n\u001b[1;32m    859\u001b[0m     \u001b[38;5;28;01mreturn\u001b[39;00m \u001b[38;5;28mself\u001b[39m\u001b[38;5;241m.\u001b[39m_fp\u001b[38;5;241m.\u001b[39mread1(amt) \u001b[38;5;28;01mif\u001b[39;00m amt \u001b[38;5;129;01mis\u001b[39;00m \u001b[38;5;129;01mnot\u001b[39;00m \u001b[38;5;28;01mNone\u001b[39;00m \u001b[38;5;28;01melse\u001b[39;00m \u001b[38;5;28mself\u001b[39m\u001b[38;5;241m.\u001b[39m_fp\u001b[38;5;241m.\u001b[39mread1()\n\u001b[1;32m    860\u001b[0m \u001b[38;5;28;01melse\u001b[39;00m:\n\u001b[1;32m    861\u001b[0m     \u001b[38;5;66;03m# StringIO doesn't like amt=None\u001b[39;00m\n\u001b[0;32m--> 862\u001b[0m     \u001b[38;5;28;01mreturn\u001b[39;00m \u001b[38;5;28;43mself\u001b[39;49m\u001b[38;5;241;43m.\u001b[39;49m\u001b[43m_fp\u001b[49m\u001b[38;5;241;43m.\u001b[39;49m\u001b[43mread\u001b[49m\u001b[43m(\u001b[49m\u001b[43mamt\u001b[49m\u001b[43m)\u001b[49m \u001b[38;5;28;01mif\u001b[39;00m amt \u001b[38;5;129;01mis\u001b[39;00m \u001b[38;5;129;01mnot\u001b[39;00m \u001b[38;5;28;01mNone\u001b[39;00m \u001b[38;5;28;01melse\u001b[39;00m \u001b[38;5;28mself\u001b[39m\u001b[38;5;241m.\u001b[39m_fp\u001b[38;5;241m.\u001b[39mread()\n",
      "File \u001b[0;32m~/miniconda3/envs/sim_test_env/lib/python3.9/http/client.py:463\u001b[0m, in \u001b[0;36mHTTPResponse.read\u001b[0;34m(self, amt)\u001b[0m\n\u001b[1;32m    460\u001b[0m \u001b[38;5;28;01mif\u001b[39;00m amt \u001b[38;5;129;01mis\u001b[39;00m \u001b[38;5;129;01mnot\u001b[39;00m \u001b[38;5;28;01mNone\u001b[39;00m:\n\u001b[1;32m    461\u001b[0m     \u001b[38;5;66;03m# Amount is given, implement using readinto\u001b[39;00m\n\u001b[1;32m    462\u001b[0m     b \u001b[38;5;241m=\u001b[39m \u001b[38;5;28mbytearray\u001b[39m(amt)\n\u001b[0;32m--> 463\u001b[0m     n \u001b[38;5;241m=\u001b[39m \u001b[38;5;28;43mself\u001b[39;49m\u001b[38;5;241;43m.\u001b[39;49m\u001b[43mreadinto\u001b[49m\u001b[43m(\u001b[49m\u001b[43mb\u001b[49m\u001b[43m)\u001b[49m\n\u001b[1;32m    464\u001b[0m     \u001b[38;5;28;01mreturn\u001b[39;00m \u001b[38;5;28mmemoryview\u001b[39m(b)[:n]\u001b[38;5;241m.\u001b[39mtobytes()\n\u001b[1;32m    465\u001b[0m \u001b[38;5;28;01melse\u001b[39;00m:\n\u001b[1;32m    466\u001b[0m     \u001b[38;5;66;03m# Amount is not given (unbounded read) so we must check self.length\u001b[39;00m\n\u001b[1;32m    467\u001b[0m     \u001b[38;5;66;03m# and self.chunked\u001b[39;00m\n",
      "File \u001b[0;32m~/miniconda3/envs/sim_test_env/lib/python3.9/http/client.py:507\u001b[0m, in \u001b[0;36mHTTPResponse.readinto\u001b[0;34m(self, b)\u001b[0m\n\u001b[1;32m    502\u001b[0m         b \u001b[38;5;241m=\u001b[39m \u001b[38;5;28mmemoryview\u001b[39m(b)[\u001b[38;5;241m0\u001b[39m:\u001b[38;5;28mself\u001b[39m\u001b[38;5;241m.\u001b[39mlength]\n\u001b[1;32m    504\u001b[0m \u001b[38;5;66;03m# we do not use _safe_read() here because this may be a .will_close\u001b[39;00m\n\u001b[1;32m    505\u001b[0m \u001b[38;5;66;03m# connection, and the user is reading more bytes than will be provided\u001b[39;00m\n\u001b[1;32m    506\u001b[0m \u001b[38;5;66;03m# (for example, reading in 1k chunks)\u001b[39;00m\n\u001b[0;32m--> 507\u001b[0m n \u001b[38;5;241m=\u001b[39m \u001b[38;5;28;43mself\u001b[39;49m\u001b[38;5;241;43m.\u001b[39;49m\u001b[43mfp\u001b[49m\u001b[38;5;241;43m.\u001b[39;49m\u001b[43mreadinto\u001b[49m\u001b[43m(\u001b[49m\u001b[43mb\u001b[49m\u001b[43m)\u001b[49m\n\u001b[1;32m    508\u001b[0m \u001b[38;5;28;01mif\u001b[39;00m \u001b[38;5;129;01mnot\u001b[39;00m n \u001b[38;5;129;01mand\u001b[39;00m b:\n\u001b[1;32m    509\u001b[0m     \u001b[38;5;66;03m# Ideally, we would raise IncompleteRead if the content-length\u001b[39;00m\n\u001b[1;32m    510\u001b[0m     \u001b[38;5;66;03m# wasn't satisfied, but it might break compatibility.\u001b[39;00m\n\u001b[1;32m    511\u001b[0m     \u001b[38;5;28mself\u001b[39m\u001b[38;5;241m.\u001b[39m_close_conn()\n",
      "File \u001b[0;32m~/miniconda3/envs/sim_test_env/lib/python3.9/socket.py:716\u001b[0m, in \u001b[0;36mSocketIO.readinto\u001b[0;34m(self, b)\u001b[0m\n\u001b[1;32m    714\u001b[0m \u001b[38;5;28;01mwhile\u001b[39;00m \u001b[38;5;28;01mTrue\u001b[39;00m:\n\u001b[1;32m    715\u001b[0m     \u001b[38;5;28;01mtry\u001b[39;00m:\n\u001b[0;32m--> 716\u001b[0m         \u001b[38;5;28;01mreturn\u001b[39;00m \u001b[38;5;28;43mself\u001b[39;49m\u001b[38;5;241;43m.\u001b[39;49m\u001b[43m_sock\u001b[49m\u001b[38;5;241;43m.\u001b[39;49m\u001b[43mrecv_into\u001b[49m\u001b[43m(\u001b[49m\u001b[43mb\u001b[49m\u001b[43m)\u001b[49m\n\u001b[1;32m    717\u001b[0m     \u001b[38;5;28;01mexcept\u001b[39;00m timeout:\n\u001b[1;32m    718\u001b[0m         \u001b[38;5;28mself\u001b[39m\u001b[38;5;241m.\u001b[39m_timeout_occurred \u001b[38;5;241m=\u001b[39m \u001b[38;5;28;01mTrue\u001b[39;00m\n",
      "\u001b[0;31mKeyboardInterrupt\u001b[0m: "
     ]
    }
   ],
   "source": [
    "for second_scene in second_scene_list: \n",
    "    temp_data = audio_scene_data[audio_scene_data['second_scene'] == second_scene].sample(10) \n",
    "    audio_name_list = temp_data['audio_name'].values.tolist() \n",
    "    first_scene_list = temp_data['first_scene'].values.tolist()\n",
    "    second_scene_list = temp_data['second_scene'].values.tolist()\n",
    "    for i in range(len(temp_data)):\n",
    "        nas_file_path = os.path.join('chaoqun/scene_audio_from_youtube', first_scene_list[i], second_scene_list[i], audio_name_list[i]) \n",
    "        print(nas_file_path)\n",
    "        download_file(\n",
    "            remote_filepath=nas_file_path\n",
    "            ,local_filepath=os.path.join(f'/root/nuna_simulation_test/data/noise_data/second_scene/{second_scene_list[i]}/{audio_name_list[i]}')\n",
    "        )\n",
    "    #     break \n",
    "    # break \n"
   ]
  },
  {
   "cell_type": "code",
   "execution_count": null,
   "metadata": {},
   "outputs": [],
   "source": []
  }
 ],
 "metadata": {
  "kernelspec": {
   "display_name": "sim_test_env",
   "language": "python",
   "name": "python3"
  },
  "language_info": {
   "codemirror_mode": {
    "name": "ipython",
    "version": 3
   },
   "file_extension": ".py",
   "mimetype": "text/x-python",
   "name": "python",
   "nbconvert_exporter": "python",
   "pygments_lexer": "ipython3",
   "version": "3.9.21"
  }
 },
 "nbformat": 4,
 "nbformat_minor": 2
}
