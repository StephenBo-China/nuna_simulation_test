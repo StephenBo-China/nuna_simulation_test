{
 "cells": [
  {
   "cell_type": "code",
   "execution_count": 1,
   "metadata": {},
   "outputs": [
    {
     "data": {
      "text/plain": [
       "({'path': 'boweihan/data/synthesis_data/tts_data',\n",
       "  'files': [{'name': 'murf_all_voice.json',\n",
       "    'type': 'file',\n",
       "    'size': 54485,\n",
       "    'modified': 1742710780.0365782},\n",
       "   {'name': 'murf_style_emotion_dict.json',\n",
       "    'type': 'file',\n",
       "    'size': 441,\n",
       "    'modified': 1742712439.1082542},\n",
       "   {'name': 'murf_style_voice_id.json',\n",
       "    'type': 'file',\n",
       "    'size': 5826,\n",
       "    'modified': 1742712507.5662844},\n",
       "   {'name': 'emotion_id_dict.json',\n",
       "    'type': 'file',\n",
       "    'size': 277,\n",
       "    'modified': 1742714068.0349505},\n",
       "   {'name': 'emotion_value_dict.json',\n",
       "    'type': 'file',\n",
       "    'size': 245,\n",
       "    'modified': 1742714070.7669516},\n",
       "   {'name': 'murf_voice_id_style_dict.json',\n",
       "    'type': 'file',\n",
       "    'size': 11620,\n",
       "    'modified': 1742752733.2279391},\n",
       "   {'name': 'complete_tts_table.csv',\n",
       "    'type': 'file',\n",
       "    'size': 18043704,\n",
       "    'modified': 1743159088.8228707},\n",
       "   {'name': 'murf_tts_data',\n",
       "    'type': 'directory',\n",
       "    'size': 5365760,\n",
       "    'modified': 1743160665.4036438}]},\n",
       " 0)"
      ]
     },
     "execution_count": 1,
     "metadata": {},
     "output_type": "execute_result"
    }
   ],
   "source": [
    "import sys \n",
    "sys.path.append('/root')\n",
    "from nas_tools.utils.utils import *\n",
    "nas_ls('boweihan/data/synthesis_data/tts_data')"
   ]
  },
  {
   "cell_type": "code",
   "execution_count": 2,
   "metadata": {},
   "outputs": [
    {
     "name": "stdout",
     "output_type": "stream",
     "text": [
      "文件已下载并保存为: /root/nuna_simulation_test/data/tts_data/complete_tts_table.csv\n"
     ]
    },
    {
     "data": {
      "text/plain": [
       "0"
      ]
     },
     "execution_count": 2,
     "metadata": {},
     "output_type": "execute_result"
    }
   ],
   "source": [
    "download_file(\n",
    "    remote_filepath='boweihan/data/synthesis_data/tts_data/complete_tts_table.csv'\n",
    "    ,local_filepath='/root/nuna_simulation_test/data/tts_data/complete_tts_table.csv'\n",
    ")"
   ]
  },
  {
   "cell_type": "code",
   "execution_count": 3,
   "metadata": {},
   "outputs": [
    {
     "data": {
      "text/html": [
       "<div>\n",
       "<style scoped>\n",
       "    .dataframe tbody tr th:only-of-type {\n",
       "        vertical-align: middle;\n",
       "    }\n",
       "\n",
       "    .dataframe tbody tr th {\n",
       "        vertical-align: top;\n",
       "    }\n",
       "\n",
       "    .dataframe thead th {\n",
       "        text-align: right;\n",
       "    }\n",
       "</style>\n",
       "<table border=\"1\" class=\"dataframe\">\n",
       "  <thead>\n",
       "    <tr style=\"text-align: right;\">\n",
       "      <th></th>\n",
       "      <th>tts_model</th>\n",
       "      <th>voice_id</th>\n",
       "      <th>model_voice_id</th>\n",
       "      <th>style</th>\n",
       "      <th>emotion_value</th>\n",
       "      <th>emotion_id</th>\n",
       "      <th>conversation_id</th>\n",
       "      <th>conversation_index</th>\n",
       "      <th>voice_nas_path</th>\n",
       "    </tr>\n",
       "  </thead>\n",
       "  <tbody>\n",
       "    <tr>\n",
       "      <th>0</th>\n",
       "      <td>murf</td>\n",
       "      <td>voicee042859e-168d-47cc-ac6e-7a6cb29f5ed5</td>\n",
       "      <td>en-US-cooper</td>\n",
       "      <td>Disappointment</td>\n",
       "      <td>Disappointment</td>\n",
       "      <td>11</td>\n",
       "      <td>dfd62aaa-1cae-40ba-aca8-f237fefcac71</td>\n",
       "      <td>0</td>\n",
       "      <td>boweihan/data/synthesis_data/tts_data/murf_tts...</td>\n",
       "    </tr>\n",
       "    <tr>\n",
       "      <th>1</th>\n",
       "      <td>murf</td>\n",
       "      <td>voice18e00ace-fcd1-462b-949e-c3f857996ae8</td>\n",
       "      <td>en-US-charles</td>\n",
       "      <td>Sobbing</td>\n",
       "      <td>Sadness</td>\n",
       "      <td>6</td>\n",
       "      <td>dfd62aaa-1cae-40ba-aca8-f237fefcac71</td>\n",
       "      <td>1</td>\n",
       "      <td>boweihan/data/synthesis_data/tts_data/murf_tts...</td>\n",
       "    </tr>\n",
       "  </tbody>\n",
       "</table>\n",
       "</div>"
      ],
      "text/plain": [
       "  tts_model                                   voice_id model_voice_id  \\\n",
       "0      murf  voicee042859e-168d-47cc-ac6e-7a6cb29f5ed5   en-US-cooper   \n",
       "1      murf  voice18e00ace-fcd1-462b-949e-c3f857996ae8  en-US-charles   \n",
       "\n",
       "            style   emotion_value  emotion_id  \\\n",
       "0  Disappointment  Disappointment          11   \n",
       "1         Sobbing         Sadness           6   \n",
       "\n",
       "                        conversation_id  conversation_index  \\\n",
       "0  dfd62aaa-1cae-40ba-aca8-f237fefcac71                   0   \n",
       "1  dfd62aaa-1cae-40ba-aca8-f237fefcac71                   1   \n",
       "\n",
       "                                      voice_nas_path  \n",
       "0  boweihan/data/synthesis_data/tts_data/murf_tts...  \n",
       "1  boweihan/data/synthesis_data/tts_data/murf_tts...  "
      ]
     },
     "execution_count": 3,
     "metadata": {},
     "output_type": "execute_result"
    }
   ],
   "source": [
    "import pandas as pd \n",
    "all_tts_data = pd.read_csv('/root/nuna_simulation_test/data/tts_data/complete_tts_table.csv') \n",
    "all_tts_data.head(2)"
   ]
  },
  {
   "cell_type": "code",
   "execution_count": 4,
   "metadata": {},
   "outputs": [
    {
     "data": {
      "text/html": [
       "<div>\n",
       "<style scoped>\n",
       "    .dataframe tbody tr th:only-of-type {\n",
       "        vertical-align: middle;\n",
       "    }\n",
       "\n",
       "    .dataframe tbody tr th {\n",
       "        vertical-align: top;\n",
       "    }\n",
       "\n",
       "    .dataframe thead th {\n",
       "        text-align: right;\n",
       "    }\n",
       "</style>\n",
       "<table border=\"1\" class=\"dataframe\">\n",
       "  <thead>\n",
       "    <tr style=\"text-align: right;\">\n",
       "      <th></th>\n",
       "      <th>tts_model</th>\n",
       "      <th>voice_id</th>\n",
       "      <th>model_voice_id</th>\n",
       "      <th>style</th>\n",
       "      <th>emotion_value</th>\n",
       "      <th>emotion_id</th>\n",
       "      <th>conversation_id</th>\n",
       "      <th>conversation_index</th>\n",
       "      <th>voice_nas_path</th>\n",
       "    </tr>\n",
       "  </thead>\n",
       "  <tbody>\n",
       "    <tr>\n",
       "      <th>65</th>\n",
       "      <td>murf</td>\n",
       "      <td>voice1521f162-98db-4cfd-804d-3dbfc44c015e</td>\n",
       "      <td>es-ES-enrique</td>\n",
       "      <td>Calm</td>\n",
       "      <td>Calm</td>\n",
       "      <td>7</td>\n",
       "      <td>4f1d0950-c201-4d0a-a64f-e53aae77198c</td>\n",
       "      <td>0</td>\n",
       "      <td>boweihan/data/synthesis_data/tts_data/murf_tts...</td>\n",
       "    </tr>\n",
       "    <tr>\n",
       "      <th>66</th>\n",
       "      <td>murf</td>\n",
       "      <td>voice73e1683d-a7df-4f8e-85c7-1dd413ccab58</td>\n",
       "      <td>en-US-ken</td>\n",
       "      <td>Fearful</td>\n",
       "      <td>Fearful</td>\n",
       "      <td>12</td>\n",
       "      <td>4f1d0950-c201-4d0a-a64f-e53aae77198c</td>\n",
       "      <td>1</td>\n",
       "      <td>boweihan/data/synthesis_data/tts_data/murf_tts...</td>\n",
       "    </tr>\n",
       "  </tbody>\n",
       "</table>\n",
       "</div>"
      ],
      "text/plain": [
       "   tts_model                                   voice_id model_voice_id  \\\n",
       "65      murf  voice1521f162-98db-4cfd-804d-3dbfc44c015e  es-ES-enrique   \n",
       "66      murf  voice73e1683d-a7df-4f8e-85c7-1dd413ccab58      en-US-ken   \n",
       "\n",
       "      style emotion_value  emotion_id                       conversation_id  \\\n",
       "65     Calm          Calm           7  4f1d0950-c201-4d0a-a64f-e53aae77198c   \n",
       "66  Fearful       Fearful          12  4f1d0950-c201-4d0a-a64f-e53aae77198c   \n",
       "\n",
       "    conversation_index                                     voice_nas_path  \n",
       "65                   0  boweihan/data/synthesis_data/tts_data/murf_tts...  \n",
       "66                   1  boweihan/data/synthesis_data/tts_data/murf_tts...  "
      ]
     },
     "execution_count": 4,
     "metadata": {},
     "output_type": "execute_result"
    }
   ],
   "source": [
    "debug_tts_data = all_tts_data[all_tts_data['conversation_id'] == '4f1d0950-c201-4d0a-a64f-e53aae77198c']\n",
    "debug_tts_data"
   ]
  },
  {
   "cell_type": "code",
   "execution_count": 5,
   "metadata": {},
   "outputs": [
    {
     "name": "stdout",
     "output_type": "stream",
     "text": [
      "文件已下载并保存为: /root/nuna_simulation_test/data/tts_data/debug_data/murf_4f1d0950-c201-4d0a-a64f-e53aae77198c_0.wav\n",
      "文件已下载并保存为: /root/nuna_simulation_test/data/tts_data/debug_data/murf_4f1d0950-c201-4d0a-a64f-e53aae77198c_1.wav\n"
     ]
    }
   ],
   "source": [
    "import os \n",
    "debug_voice_nas_path_list = debug_tts_data['voice_nas_path'].values.tolist() \n",
    "for p in debug_voice_nas_path_list: \n",
    "    download_file(\n",
    "        remote_filepath=p\n",
    "        ,local_filepath=os.path.join('/root/nuna_simulation_test/data/tts_data/debug_data', p.split('/')[-1])\n",
    "    )"
   ]
  },
  {
   "cell_type": "code",
   "execution_count": 6,
   "metadata": {},
   "outputs": [
    {
     "name": "stdout",
     "output_type": "stream",
     "text": [
      "6263\n"
     ]
    }
   ],
   "source": [
    "all_conversation_id_list = list(set(all_tts_data['conversation_id'].values.tolist()))\n",
    "print(len(all_conversation_id_list))"
   ]
  },
  {
   "cell_type": "code",
   "execution_count": 7,
   "metadata": {},
   "outputs": [
    {
     "data": {
      "text/plain": [
       "['739f45a8-2084-4da7-a7c7-5b730de20b6c',\n",
       " '5bfcc893-1c70-4258-8d05-fcfa93997444',\n",
       " 'a042e04a-9701-48eb-a833-7d5a05032c88',\n",
       " '04e2769c-e13e-46d5-b7dd-f58ec5bb3b37',\n",
       " '7b14fdf7-d268-4d4a-b9ba-8371028dc378']"
      ]
     },
     "execution_count": 7,
     "metadata": {},
     "output_type": "execute_result"
    }
   ],
   "source": [
    "import random \n",
    "sampled_conversation_list = random.sample(all_conversation_id_list, 5)\n",
    "sampled_conversation_list"
   ]
  },
  {
   "cell_type": "code",
   "execution_count": null,
   "metadata": {},
   "outputs": [
    {
     "name": "stdout",
     "output_type": "stream",
     "text": [
      "文件已下载并保存为: /root/nuna_simulation_test/data/tts_data/conversation_turn_data/739f45a8-2084-4da7-a7c7-5b730de20b6c/murf_739f45a8-2084-4da7-a7c7-5b730de20b6c_0.wav\n",
      "文件已下载并保存为: /root/nuna_simulation_test/data/tts_data/conversation_turn_data/739f45a8-2084-4da7-a7c7-5b730de20b6c/murf_739f45a8-2084-4da7-a7c7-5b730de20b6c_1.wav\n",
      "文件已下载并保存为: /root/nuna_simulation_test/data/tts_data/conversation_turn_data/739f45a8-2084-4da7-a7c7-5b730de20b6c/murf_739f45a8-2084-4da7-a7c7-5b730de20b6c_3.wav\n",
      "文件已下载并保存为: /root/nuna_simulation_test/data/tts_data/conversation_turn_data/739f45a8-2084-4da7-a7c7-5b730de20b6c/murf_739f45a8-2084-4da7-a7c7-5b730de20b6c_2.wav\n",
      "文件已下载并保存为: /root/nuna_simulation_test/data/tts_data/conversation_turn_data/739f45a8-2084-4da7-a7c7-5b730de20b6c/murf_739f45a8-2084-4da7-a7c7-5b730de20b6c_4.wav\n",
      "文件已下载并保存为: /root/nuna_simulation_test/data/tts_data/conversation_turn_data/739f45a8-2084-4da7-a7c7-5b730de20b6c/murf_739f45a8-2084-4da7-a7c7-5b730de20b6c_7.wav\n",
      "文件已下载并保存为: /root/nuna_simulation_test/data/tts_data/conversation_turn_data/739f45a8-2084-4da7-a7c7-5b730de20b6c/murf_739f45a8-2084-4da7-a7c7-5b730de20b6c_5.wav\n",
      "文件已下载并保存为: /root/nuna_simulation_test/data/tts_data/conversation_turn_data/739f45a8-2084-4da7-a7c7-5b730de20b6c/murf_739f45a8-2084-4da7-a7c7-5b730de20b6c_6.wav\n",
      "文件已下载并保存为: /root/nuna_simulation_test/data/tts_data/conversation_turn_data/739f45a8-2084-4da7-a7c7-5b730de20b6c/murf_739f45a8-2084-4da7-a7c7-5b730de20b6c_8.wav\n",
      "文件已下载并保存为: /root/nuna_simulation_test/data/tts_data/conversation_turn_data/739f45a8-2084-4da7-a7c7-5b730de20b6c/murf_739f45a8-2084-4da7-a7c7-5b730de20b6c_10.wav\n",
      "文件已下载并保存为: /root/nuna_simulation_test/data/tts_data/conversation_turn_data/739f45a8-2084-4da7-a7c7-5b730de20b6c/murf_739f45a8-2084-4da7-a7c7-5b730de20b6c_11.wav\n",
      "文件已下载并保存为: /root/nuna_simulation_test/data/tts_data/conversation_turn_data/739f45a8-2084-4da7-a7c7-5b730de20b6c/murf_739f45a8-2084-4da7-a7c7-5b730de20b6c_9.wav\n",
      "文件已下载并保存为: /root/nuna_simulation_test/data/tts_data/conversation_turn_data/739f45a8-2084-4da7-a7c7-5b730de20b6c/murf_739f45a8-2084-4da7-a7c7-5b730de20b6c_15.wav\n",
      "文件已下载并保存为: /root/nuna_simulation_test/data/tts_data/conversation_turn_data/739f45a8-2084-4da7-a7c7-5b730de20b6c/murf_739f45a8-2084-4da7-a7c7-5b730de20b6c_16.wav\n",
      "文件已下载并保存为: /root/nuna_simulation_test/data/tts_data/conversation_turn_data/739f45a8-2084-4da7-a7c7-5b730de20b6c/murf_739f45a8-2084-4da7-a7c7-5b730de20b6c_12.wav\n",
      "文件已下载并保存为: /root/nuna_simulation_test/data/tts_data/conversation_turn_data/739f45a8-2084-4da7-a7c7-5b730de20b6c/murf_739f45a8-2084-4da7-a7c7-5b730de20b6c_13.wav\n",
      "文件已下载并保存为: /root/nuna_simulation_test/data/tts_data/conversation_turn_data/739f45a8-2084-4da7-a7c7-5b730de20b6c/murf_739f45a8-2084-4da7-a7c7-5b730de20b6c_14.wav\n",
      "文件已下载并保存为: /root/nuna_simulation_test/data/tts_data/conversation_turn_data/5bfcc893-1c70-4258-8d05-fcfa93997444/murf_5bfcc893-1c70-4258-8d05-fcfa93997444_0.wav\n",
      "文件已下载并保存为: /root/nuna_simulation_test/data/tts_data/conversation_turn_data/5bfcc893-1c70-4258-8d05-fcfa93997444/murf_5bfcc893-1c70-4258-8d05-fcfa93997444_1.wav\n",
      "文件已下载并保存为: /root/nuna_simulation_test/data/tts_data/conversation_turn_data/5bfcc893-1c70-4258-8d05-fcfa93997444/murf_5bfcc893-1c70-4258-8d05-fcfa93997444_2.wav\n",
      "文件已下载并保存为: /root/nuna_simulation_test/data/tts_data/conversation_turn_data/5bfcc893-1c70-4258-8d05-fcfa93997444/murf_5bfcc893-1c70-4258-8d05-fcfa93997444_3.wav\n",
      "文件已下载并保存为: /root/nuna_simulation_test/data/tts_data/conversation_turn_data/5bfcc893-1c70-4258-8d05-fcfa93997444/murf_5bfcc893-1c70-4258-8d05-fcfa93997444_5.wav\n",
      "文件已下载并保存为: /root/nuna_simulation_test/data/tts_data/conversation_turn_data/5bfcc893-1c70-4258-8d05-fcfa93997444/murf_5bfcc893-1c70-4258-8d05-fcfa93997444_4.wav\n",
      "文件已下载并保存为: /root/nuna_simulation_test/data/tts_data/conversation_turn_data/5bfcc893-1c70-4258-8d05-fcfa93997444/murf_5bfcc893-1c70-4258-8d05-fcfa93997444_7.wav\n",
      "文件已下载并保存为: /root/nuna_simulation_test/data/tts_data/conversation_turn_data/5bfcc893-1c70-4258-8d05-fcfa93997444/murf_5bfcc893-1c70-4258-8d05-fcfa93997444_6.wav\n"
     ]
    }
   ],
   "source": [
    "for conv_id in sampled_conversation_list:\n",
    "    temp_data = all_tts_data[all_tts_data['conversation_id'] == conv_id]\n",
    "    conversation_index_list = temp_data['conversation_index'].values.tolist() \n",
    "    voice_nas_path_list = temp_data['voice_nas_path'].values.tolist()  \n",
    "    for i in range(len(temp_data)): \n",
    "        conversation_index = conversation_index_list[i] \n",
    "        voice_nas_path = voice_nas_path_list[i] \n",
    "        download_file(\n",
    "            remote_filepath=voice_nas_path\n",
    "            ,local_filepath=os.path.join(f'/root/nuna_simulation_test/data/tts_data/conversation_turn_data/{conv_id}', voice_nas_path.split('/')[-1])\n",
    "        )"
   ]
  },
  {
   "cell_type": "code",
   "execution_count": null,
   "metadata": {},
   "outputs": [],
   "source": [
    "download_file(\n",
    "    remote_filepath='chaoqun/audio_scene_label.csv'\n",
    "    ,local_filepath=os.path.join(f'/root/nuna_simulation_test/data/noise_data/audio_scene_label.csv')\n",
    ")"
   ]
  },
  {
   "cell_type": "code",
   "execution_count": null,
   "metadata": {},
   "outputs": [],
   "source": [
    "audio_scene_data = pd.read_csv('/root/nuna_simulation_test/data/noise_data/audio_scene_label.csv')\n",
    "audio_scene_data.head(2)"
   ]
  },
  {
   "cell_type": "code",
   "execution_count": null,
   "metadata": {},
   "outputs": [],
   "source": [
    "second_scene_list = list(set(audio_scene_data['second_scene'].values.tolist()))\n",
    "print(second_scene_list)"
   ]
  },
  {
   "cell_type": "code",
   "execution_count": null,
   "metadata": {},
   "outputs": [],
   "source": [
    "print(second_scene_list)"
   ]
  },
  {
   "cell_type": "code",
   "execution_count": null,
   "metadata": {},
   "outputs": [],
   "source": [
    "for second_scene in second_scene_list: \n",
    "    temp_data = audio_scene_data[audio_scene_data['second_scene'] == second_scene].sample(10) \n",
    "    audio_name_list = temp_data['audio_name'].values.tolist() \n",
    "    first_scene_list11 = temp_data['first_scene'].values.tolist()\n",
    "    second_scene_list11 = temp_data['second_scene'].values.tolist()\n",
    "    print(len(temp_data))\n",
    "    # break/ \n",
    "    for i in range(len(temp_data)):\n",
    "        nas_file_path = os.path.join('chaoqun/scene_audio_from_youtube', first_scene_list11[i], second_scene_list11[i], audio_name_list[i]) \n",
    "        print(nas_file_path)\n",
    "        download_file(\n",
    "            remote_filepath=nas_file_path\n",
    "            ,local_filepath=os.path.join(f'/root/nuna_simulation_test/data/noise_data/second_scene/{second_scene_list11[i]}/{audio_name_list[i]}')\n",
    "        )\n",
    "    #     break \n",
    "    # break \n"
   ]
  },
  {
   "cell_type": "markdown",
   "metadata": {},
   "source": [
    "### make origin voice data"
   ]
  },
  {
   "cell_type": "code",
   "execution_count": null,
   "metadata": {},
   "outputs": [],
   "source": [
    "noise_datapath = './data/noise_data/second_scene/' \n",
    "tts_datapath = './data/tts_data/conversation_turn_data'"
   ]
  },
  {
   "cell_type": "code",
   "execution_count": null,
   "metadata": {},
   "outputs": [],
   "source": [
    "def get_all_folders_from_path(folder_path):\n",
    "    # 获取所有文件和文件夹名称\n",
    "    all_items = os.listdir(folder_path)\n",
    "    # 筛选出文件夹\n",
    "    return [item for item in all_items if os.path.isdir(os.path.join(folder_path, item))]"
   ]
  },
  {
   "cell_type": "code",
   "execution_count": null,
   "metadata": {},
   "outputs": [],
   "source": [
    "all_scene_noise_folder_list = get_all_folders_from_path(noise_datapath)\n",
    "print(all_scene_noise_folder_list)"
   ]
  },
  {
   "cell_type": "code",
   "execution_count": null,
   "metadata": {},
   "outputs": [],
   "source": [
    "all_tts_folder_list = get_all_folders_from_path(tts_datapath)\n",
    "print(all_tts_folder_list)"
   ]
  },
  {
   "cell_type": "code",
   "execution_count": null,
   "metadata": {},
   "outputs": [],
   "source": [
    "import glob \n",
    "def get_all_wav_files_from_folder_path(folder_path): \n",
    "    rst1 = glob.glob(f\"{folder_path}/*.wav\")\n",
    "    rst2 = glob.glob(f\"{folder_path}/*.WAV\")\n",
    "    return rst1 + rst2"
   ]
  },
  {
   "cell_type": "code",
   "execution_count": null,
   "metadata": {},
   "outputs": [],
   "source": [
    "def get_random_noise_voice_data(folder_path): \n",
    "    noise_folder_path = random.choice(all_scene_noise_folder_list) \n",
    "    all_scene_wav_files = get_all_wav_files_from_folder_path(os.path.join(folder_path, noise_folder_path)) \n",
    "    return random.choice(all_scene_wav_files)\n",
    "    "
   ]
  },
  {
   "cell_type": "code",
   "execution_count": null,
   "metadata": {},
   "outputs": [],
   "source": [
    "get_random_noise_voice_data(noise_datapath)"
   ]
  },
  {
   "cell_type": "code",
   "execution_count": null,
   "metadata": {},
   "outputs": [],
   "source": [
    "import os\n",
    "from pydub import AudioSegment\n",
    "from pydub.generators import WhiteNoise\n",
    "import random\n",
    "\n",
    "def get_tts_human_voice_data(folder_path, output_file, min_pause=500, max_pause=2000): \n",
    "    tts_folder_path = random.choice(all_tts_folder_list) \n",
    "    all_conversation_turn_files = get_all_wav_files_from_folder_path(os.path.join(folder_path, tts_folder_path)) \n",
    "    all_conversation_turn_file_dict = {}\n",
    "    for filename in all_conversation_turn_files:\n",
    "        wav_name = filename.split('/')[-1] \n",
    "        turn_cnt = int(wav_name.split('_')[-1].replace('.wav', '').replace('.WAV', '')) \n",
    "        all_conversation_turn_file_dict[turn_cnt] = filename\n",
    "    sorted_all_conversation_turn_file_dict = dict(sorted(all_conversation_turn_file_dict.items(), key=lambda item: item[0], reverse=False))\n",
    "    # print(sorted_all_conversation_turn_file_dict) \n",
    "    combined = AudioSegment.silent(duration=0) # 初始化空白音频段\n",
    "    cnt = 0 \n",
    "    for _, turn_audio_datapath in sorted_all_conversation_turn_file_dict.items(): \n",
    "        # print(turn_audio_datapath)\n",
    "        segment = AudioSegment.from_wav(turn_audio_datapath) \n",
    "        combined += segment\n",
    "        pause_duration = random.randint(min_pause, max_pause)\n",
    "        silence = AudioSegment.silent(duration=pause_duration)\n",
    "        combined += silence\n",
    "        cnt += 1\n",
    "        if cnt == 5:\n",
    "            break \n",
    "    combined.export(output_file, format=\"wav\")\n",
    "    print(f\"文件已保存至: {output_file}\")"
   ]
  },
  {
   "cell_type": "code",
   "execution_count": null,
   "metadata": {},
   "outputs": [],
   "source": [
    "combined = AudioSegment.silent(duration=100)\n",
    "turn_audio_datapath = './data/tts_data/conversation_turn_data/c468f94b-389a-493d-91bf-8c258164481d/murf_c468f94b-389a-493d-91bf-8c258164481d_0.wav'\n",
    "segment = AudioSegment.from_wav(turn_audio_datapath) \n",
    "combined += segment \n",
    "combined.export('debug.wav', format=\"wav\")"
   ]
  },
  {
   "cell_type": "code",
   "execution_count": null,
   "metadata": {},
   "outputs": [],
   "source": [
    "get_tts_human_voice_data(\n",
    "    folder_path = tts_datapath\n",
    "    ,output_file = './data/origin_voice_data/debug.wav'\n",
    ")"
   ]
  },
  {
   "cell_type": "code",
   "execution_count": null,
   "metadata": {},
   "outputs": [],
   "source": [
    "get_all_wav_files_from_folder_path(os.path.join(noise_datapath, random.choice(all_scene_noise_folder_list)))"
   ]
  },
  {
   "cell_type": "code",
   "execution_count": null,
   "metadata": {},
   "outputs": [],
   "source": []
  },
  {
   "cell_type": "code",
   "execution_count": null,
   "metadata": {},
   "outputs": [],
   "source": []
  }
 ],
 "metadata": {
  "kernelspec": {
   "display_name": "sim_test_env",
   "language": "python",
   "name": "python3"
  },
  "language_info": {
   "codemirror_mode": {
    "name": "ipython",
    "version": 3
   },
   "file_extension": ".py",
   "mimetype": "text/x-python",
   "name": "python",
   "nbconvert_exporter": "python",
   "pygments_lexer": "ipython3",
   "version": "3.9.21"
  }
 },
 "nbformat": 4,
 "nbformat_minor": 2
}
